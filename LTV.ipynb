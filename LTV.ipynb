{
  "cells": [
    {
      "cell_type": "markdown",
      "id": "c5e1aa94",
      "metadata": {
        "id": "c5e1aa94"
      },
      "source": [
        "- LTV는 고객이 평생동안 기업에게 어느 정도의 금전적 가치를 가져다 주는지를 정량화한 지표로, 고객별 미래의 예상 구매 횟수 * 예상 평균 수익으로 계산됩니다.\n",
        "- 미래의 예상 구매 횟수는 BG/NBD 모형을 통해 산출되며, 이를 위해 R (Recency), F (Frequency), T (Time) 정보가 필요합니다.\n",
        "- 미래의 예상 평균 수익은 Gamma-Gamma 모형을 통해 산출되며, 이를 위해 F (Frequency), M (Monetary Value) 정보가 필요합니다."
      ]
    },
    {
      "cell_type": "markdown",
      "id": "2ec3b512",
      "metadata": {
        "id": "2ec3b512"
      },
      "source": [
        "# 데이터 파악"
      ]
    },
    {
      "cell_type": "markdown",
      "id": "ed7f8809",
      "metadata": {
        "id": "ed7f8809"
      },
      "source": [
        "- 데이터 컬럼\n",
        "    - InvoiceNo: 송장 번호\n",
        "    - StockCode: 제품 번호\n",
        "    - Description: 제품명\n",
        "    - Quantity: 주문 수량\n",
        "    - InvoiceDate: 주문 일자 및 시각 (datetime 형태)\n",
        "    - UnitPrice: 단가 (화폐 단위: 파운드 £)\n",
        "    - CustomerID: 고객 번호\n",
        "    - Country: 고객 거주 국가"
      ]
    },
    {
      "cell_type": "code",
      "execution_count": null,
      "id": "69add4b8",
      "metadata": {
        "ExecuteTime": {
          "end_time": "2023-11-29T06:46:12.467072Z",
          "start_time": "2023-11-29T06:45:10.810044Z"
        },
        "id": "69add4b8",
        "outputId": "87e6621e-2ab4-44b4-e4cc-b0b5be70e116"
      },
      "outputs": [
        {
          "data": {
            "text/html": [
              "<div>\n",
              "<style scoped>\n",
              "    .dataframe tbody tr th:only-of-type {\n",
              "        vertical-align: middle;\n",
              "    }\n",
              "\n",
              "    .dataframe tbody tr th {\n",
              "        vertical-align: top;\n",
              "    }\n",
              "\n",
              "    .dataframe thead th {\n",
              "        text-align: right;\n",
              "    }\n",
              "</style>\n",
              "<table border=\"1\" class=\"dataframe\">\n",
              "  <thead>\n",
              "    <tr style=\"text-align: right;\">\n",
              "      <th></th>\n",
              "      <th>InvoiceNo</th>\n",
              "      <th>StockCode</th>\n",
              "      <th>Description</th>\n",
              "      <th>Quantity</th>\n",
              "      <th>InvoiceDate</th>\n",
              "      <th>UnitPrice</th>\n",
              "      <th>CustomerID</th>\n",
              "      <th>Country</th>\n",
              "    </tr>\n",
              "  </thead>\n",
              "  <tbody>\n",
              "    <tr>\n",
              "      <th>0</th>\n",
              "      <td>536365</td>\n",
              "      <td>85123A</td>\n",
              "      <td>WHITE HANGING HEART T-LIGHT HOLDER</td>\n",
              "      <td>6</td>\n",
              "      <td>2010-12-01 08:26:00</td>\n",
              "      <td>2.55</td>\n",
              "      <td>17850.0</td>\n",
              "      <td>United Kingdom</td>\n",
              "    </tr>\n",
              "    <tr>\n",
              "      <th>1</th>\n",
              "      <td>536365</td>\n",
              "      <td>71053</td>\n",
              "      <td>WHITE METAL LANTERN</td>\n",
              "      <td>6</td>\n",
              "      <td>2010-12-01 08:26:00</td>\n",
              "      <td>3.39</td>\n",
              "      <td>17850.0</td>\n",
              "      <td>United Kingdom</td>\n",
              "    </tr>\n",
              "    <tr>\n",
              "      <th>2</th>\n",
              "      <td>536365</td>\n",
              "      <td>84406B</td>\n",
              "      <td>CREAM CUPID HEARTS COAT HANGER</td>\n",
              "      <td>8</td>\n",
              "      <td>2010-12-01 08:26:00</td>\n",
              "      <td>2.75</td>\n",
              "      <td>17850.0</td>\n",
              "      <td>United Kingdom</td>\n",
              "    </tr>\n",
              "    <tr>\n",
              "      <th>3</th>\n",
              "      <td>536365</td>\n",
              "      <td>84029G</td>\n",
              "      <td>KNITTED UNION FLAG HOT WATER BOTTLE</td>\n",
              "      <td>6</td>\n",
              "      <td>2010-12-01 08:26:00</td>\n",
              "      <td>3.39</td>\n",
              "      <td>17850.0</td>\n",
              "      <td>United Kingdom</td>\n",
              "    </tr>\n",
              "    <tr>\n",
              "      <th>4</th>\n",
              "      <td>536365</td>\n",
              "      <td>84029E</td>\n",
              "      <td>RED WOOLLY HOTTIE WHITE HEART.</td>\n",
              "      <td>6</td>\n",
              "      <td>2010-12-01 08:26:00</td>\n",
              "      <td>3.39</td>\n",
              "      <td>17850.0</td>\n",
              "      <td>United Kingdom</td>\n",
              "    </tr>\n",
              "  </tbody>\n",
              "</table>\n",
              "</div>"
            ],
            "text/plain": [
              "  InvoiceNo StockCode                          Description  Quantity  \\\n",
              "0    536365    85123A   WHITE HANGING HEART T-LIGHT HOLDER         6   \n",
              "1    536365     71053                  WHITE METAL LANTERN         6   \n",
              "2    536365    84406B       CREAM CUPID HEARTS COAT HANGER         8   \n",
              "3    536365    84029G  KNITTED UNION FLAG HOT WATER BOTTLE         6   \n",
              "4    536365    84029E       RED WOOLLY HOTTIE WHITE HEART.         6   \n",
              "\n",
              "          InvoiceDate  UnitPrice  CustomerID         Country  \n",
              "0 2010-12-01 08:26:00       2.55     17850.0  United Kingdom  \n",
              "1 2010-12-01 08:26:00       3.39     17850.0  United Kingdom  \n",
              "2 2010-12-01 08:26:00       2.75     17850.0  United Kingdom  \n",
              "3 2010-12-01 08:26:00       3.39     17850.0  United Kingdom  \n",
              "4 2010-12-01 08:26:00       3.39     17850.0  United Kingdom  "
            ]
          },
          "execution_count": 1,
          "metadata": {},
          "output_type": "execute_result"
        }
      ],
      "source": [
        "import pandas as pd\n",
        "import warnings\n",
        "import os\n",
        "import numpy as np\n",
        "import matplotlib.pyplot as plt\n",
        "\n",
        "from datetime import datetime\n",
        "from datetime import timedelta\n",
        "\n",
        "from lifetimes.plotting import *\n",
        "from lifetimes.utils import *\n",
        "from lifetimes import BetaGeoFitter\n",
        "from lifetimes.fitters.gamma_gamma_fitter import GammaGammaFitter\n",
        "\n",
        "from hyperopt import hp, fmin, tpe, rand, SparkTrials, STATUS_OK, space_eval, Trials\n",
        "\n",
        "warnings.filterwarnings('ignore')\n",
        "\n",
        "df = pd.read_excel(\"Online Retail.xlsx\", engine='openpyxl')\n",
        "df.head()"
      ]
    },
    {
      "cell_type": "code",
      "execution_count": null,
      "id": "1441bb01",
      "metadata": {
        "ExecuteTime": {
          "end_time": "2023-11-29T06:46:12.540090Z",
          "start_time": "2023-11-29T06:46:12.468073Z"
        },
        "id": "1441bb01",
        "outputId": "4b36c3b4-fab2-4fce-ed6c-2e42390eb7a6"
      },
      "outputs": [
        {
          "data": {
            "text/plain": [
              "InvoiceNo           0\n",
              "StockCode           0\n",
              "Description      1454\n",
              "Quantity            0\n",
              "InvoiceDate         0\n",
              "UnitPrice           0\n",
              "CustomerID     135080\n",
              "Country             0\n",
              "dtype: int64"
            ]
          },
          "execution_count": 2,
          "metadata": {},
          "output_type": "execute_result"
        }
      ],
      "source": [
        "df.isnull().sum()"
      ]
    },
    {
      "cell_type": "markdown",
      "id": "11d6c0e5",
      "metadata": {
        "id": "11d6c0e5"
      },
      "source": [
        "# 데이터 전처리\n",
        "- 고객마다 일자별로 얼마치 구매했는지 알기 위해 전처리"
      ]
    },
    {
      "cell_type": "code",
      "execution_count": null,
      "id": "52d197e0",
      "metadata": {
        "ExecuteTime": {
          "end_time": "2023-11-29T06:46:12.888167Z",
          "start_time": "2023-11-29T06:46:12.542088Z"
        },
        "id": "52d197e0",
        "outputId": "444cc885-84f3-40d3-aea8-0897a1724fcd"
      },
      "outputs": [
        {
          "data": {
            "text/html": [
              "<div>\n",
              "<style scoped>\n",
              "    .dataframe tbody tr th:only-of-type {\n",
              "        vertical-align: middle;\n",
              "    }\n",
              "\n",
              "    .dataframe tbody tr th {\n",
              "        vertical-align: top;\n",
              "    }\n",
              "\n",
              "    .dataframe thead th {\n",
              "        text-align: right;\n",
              "    }\n",
              "</style>\n",
              "<table border=\"1\" class=\"dataframe\">\n",
              "  <thead>\n",
              "    <tr style=\"text-align: right;\">\n",
              "      <th></th>\n",
              "      <th>CustomerID</th>\n",
              "      <th>InvoiceDate</th>\n",
              "      <th>Sales</th>\n",
              "    </tr>\n",
              "  </thead>\n",
              "  <tbody>\n",
              "    <tr>\n",
              "      <th>0</th>\n",
              "      <td>17850.0</td>\n",
              "      <td>2010-12-01</td>\n",
              "      <td>15.30</td>\n",
              "    </tr>\n",
              "    <tr>\n",
              "      <th>1</th>\n",
              "      <td>17850.0</td>\n",
              "      <td>2010-12-01</td>\n",
              "      <td>20.34</td>\n",
              "    </tr>\n",
              "    <tr>\n",
              "      <th>2</th>\n",
              "      <td>17850.0</td>\n",
              "      <td>2010-12-01</td>\n",
              "      <td>22.00</td>\n",
              "    </tr>\n",
              "    <tr>\n",
              "      <th>3</th>\n",
              "      <td>17850.0</td>\n",
              "      <td>2010-12-01</td>\n",
              "      <td>20.34</td>\n",
              "    </tr>\n",
              "    <tr>\n",
              "      <th>4</th>\n",
              "      <td>17850.0</td>\n",
              "      <td>2010-12-01</td>\n",
              "      <td>20.34</td>\n",
              "    </tr>\n",
              "  </tbody>\n",
              "</table>\n",
              "</div>"
            ],
            "text/plain": [
              "   CustomerID InvoiceDate  Sales\n",
              "0     17850.0  2010-12-01  15.30\n",
              "1     17850.0  2010-12-01  20.34\n",
              "2     17850.0  2010-12-01  22.00\n",
              "3     17850.0  2010-12-01  20.34\n",
              "4     17850.0  2010-12-01  20.34"
            ]
          },
          "execution_count": 3,
          "metadata": {},
          "output_type": "execute_result"
        }
      ],
      "source": [
        "# InvoiceDate (주문 일자): Datetime -> date형\n",
        "df['InvoiceDate'] = pd.to_datetime(df['InvoiceDate']).dt.date\n",
        "\n",
        "# CustomerID: NULL인 것 제외\n",
        "df = df[pd.notnull(df['CustomerID'])]\n",
        "\n",
        "# Quantity (주문 수량): 1 이상인 것\n",
        "df = df[(df['Quantity'] > 0)]\n",
        "\n",
        "# Sales (구매 금액) 변수 생성\n",
        "df['Sales'] = df['Quantity'] * df['UnitPrice']\n",
        "\n",
        "# 고객 번호, 주문 일자, 구매 금액만 남기고 지우기\n",
        "cols_of_interest = ['CustomerID', 'InvoiceDate', 'Sales']\n",
        "df = df[cols_of_interest]\n",
        "\n",
        "df.head()"
      ]
    },
    {
      "cell_type": "markdown",
      "id": "5f6e4ee2",
      "metadata": {
        "id": "5f6e4ee2"
      },
      "source": [
        "# lifetimes 패키지로 RFMT 계산"
      ]
    },
    {
      "cell_type": "markdown",
      "id": "771ac89d",
      "metadata": {
        "id": "771ac89d"
      },
      "source": [
        "- BG/NBD 모형과 Gamma-Gamma 모형의 INPUT이 되는 R, F, M, T 만들기"
      ]
    },
    {
      "cell_type": "markdown",
      "id": "58665557",
      "metadata": {
        "ExecuteTime": {
          "end_time": "2023-11-29T04:51:25.983299Z",
          "start_time": "2023-11-29T04:51:25.979288Z"
        },
        "id": "58665557"
      },
      "source": [
        "- frequency       ( F ) : 고객별 구매 일수\n",
        "- recency         ( R ) : 고객별 첫 구매 ~ 마지막 구매까지의 시간\n",
        "- T               ( T ) : 고객별 첫 구매 ~ 집계일까지의 시간\n",
        "- moneytary_value ( M ) : 고객별 평균 구매 금액"
      ]
    },
    {
      "cell_type": "markdown",
      "id": "fd6aae07",
      "metadata": {
        "ExecuteTime": {
          "end_time": "2023-11-29T06:42:17.992319Z",
          "start_time": "2023-11-29T06:42:17.984316Z"
        },
        "id": "fd6aae07"
      },
      "source": [
        "- lifetimes 함수 정리\n",
        "    - summary_data_from_transaction_data\n",
        "        - 구매기록 데이터에서 고객별 RFMT 계산\n",
        "    - calibration_and_holdout_data\n",
        "        - 훈련 / 테스트를 나눠 고객별 RFMT 계산\n",
        "    - fmin\n",
        "        - L2 penalty 최적화\n",
        "    - BetaGeoFitter\n",
        "        - 예상 구매 일수를 구하기 위한 BG/NBD 모형 적함\n",
        "    - conditional_expected_number_of_purchases_up_to_time\n",
        "        - t 시점까지의 예상 구매 일수 계산\n",
        "    - GammaGammaFitter\n",
        "        - 예상 평균 구매 금액을 구하기 위한 Gamma-Gamma 모형 적합\n",
        "    - conditional_expected_average_profit\n",
        "        - 예상 평균 구매 금액 계산\n",
        "    - customer_lifetime_value\n",
        "        - 고객별 LTV 계산\n",
        "    "
      ]
    },
    {
      "cell_type": "code",
      "execution_count": null,
      "id": "8927b413",
      "metadata": {
        "ExecuteTime": {
          "end_time": "2023-11-29T06:46:13.316270Z",
          "start_time": "2023-11-29T06:46:12.889167Z"
        },
        "id": "8927b413",
        "outputId": "f558679e-4e4d-4518-a002-bee8987aa19d"
      },
      "outputs": [
        {
          "data": {
            "text/html": [
              "<div>\n",
              "<style scoped>\n",
              "    .dataframe tbody tr th:only-of-type {\n",
              "        vertical-align: middle;\n",
              "    }\n",
              "\n",
              "    .dataframe tbody tr th {\n",
              "        vertical-align: top;\n",
              "    }\n",
              "\n",
              "    .dataframe thead th {\n",
              "        text-align: right;\n",
              "    }\n",
              "</style>\n",
              "<table border=\"1\" class=\"dataframe\">\n",
              "  <thead>\n",
              "    <tr style=\"text-align: right;\">\n",
              "      <th></th>\n",
              "      <th>frequency</th>\n",
              "      <th>recency</th>\n",
              "      <th>T</th>\n",
              "      <th>monetary_value</th>\n",
              "    </tr>\n",
              "    <tr>\n",
              "      <th>CustomerID</th>\n",
              "      <th></th>\n",
              "      <th></th>\n",
              "      <th></th>\n",
              "      <th></th>\n",
              "    </tr>\n",
              "  </thead>\n",
              "  <tbody>\n",
              "    <tr>\n",
              "      <th>12346.0</th>\n",
              "      <td>0.0</td>\n",
              "      <td>0.0</td>\n",
              "      <td>325.0</td>\n",
              "      <td>0.000000</td>\n",
              "    </tr>\n",
              "    <tr>\n",
              "      <th>12347.0</th>\n",
              "      <td>6.0</td>\n",
              "      <td>365.0</td>\n",
              "      <td>367.0</td>\n",
              "      <td>599.701667</td>\n",
              "    </tr>\n",
              "    <tr>\n",
              "      <th>12348.0</th>\n",
              "      <td>3.0</td>\n",
              "      <td>283.0</td>\n",
              "      <td>358.0</td>\n",
              "      <td>301.480000</td>\n",
              "    </tr>\n",
              "    <tr>\n",
              "      <th>12349.0</th>\n",
              "      <td>0.0</td>\n",
              "      <td>0.0</td>\n",
              "      <td>18.0</td>\n",
              "      <td>0.000000</td>\n",
              "    </tr>\n",
              "    <tr>\n",
              "      <th>12350.0</th>\n",
              "      <td>0.0</td>\n",
              "      <td>0.0</td>\n",
              "      <td>310.0</td>\n",
              "      <td>0.000000</td>\n",
              "    </tr>\n",
              "  </tbody>\n",
              "</table>\n",
              "</div>"
            ],
            "text/plain": [
              "            frequency  recency      T  monetary_value\n",
              "CustomerID                                           \n",
              "12346.0           0.0      0.0  325.0        0.000000\n",
              "12347.0           6.0    365.0  367.0      599.701667\n",
              "12348.0           3.0    283.0  358.0      301.480000\n",
              "12349.0           0.0      0.0   18.0        0.000000\n",
              "12350.0           0.0      0.0  310.0        0.000000"
            ]
          },
          "execution_count": 4,
          "metadata": {},
          "output_type": "execute_result"
        }
      ],
      "source": [
        "current_date = df['InvoiceDate'].max()\n",
        "\n",
        "metrics_df = summary_data_from_transaction_data(df\n",
        "                                          , customer_id_col = 'CustomerID'\n",
        "                                          , datetime_col = 'InvoiceDate'\n",
        "                                          , monetary_value_col='Sales'\n",
        "                                          , observation_period_end=current_date)\n",
        "metrics_df.head()"
      ]
    },
    {
      "cell_type": "markdown",
      "id": "c241489f",
      "metadata": {
        "id": "c241489f"
      },
      "source": [
        "- 해석 예시"
      ]
    },
    {
      "cell_type": "code",
      "execution_count": null,
      "id": "f7a0a99c",
      "metadata": {
        "ExecuteTime": {
          "end_time": "2023-11-29T06:46:13.325268Z",
          "start_time": "2023-11-29T06:46:13.317271Z"
        },
        "id": "f7a0a99c",
        "outputId": "194d6ee9-ecfe-4c63-aa1c-c5ee3b82220f"
      },
      "outputs": [
        {
          "data": {
            "text/html": [
              "<div>\n",
              "<style scoped>\n",
              "    .dataframe tbody tr th:only-of-type {\n",
              "        vertical-align: middle;\n",
              "    }\n",
              "\n",
              "    .dataframe tbody tr th {\n",
              "        vertical-align: top;\n",
              "    }\n",
              "\n",
              "    .dataframe thead th {\n",
              "        text-align: right;\n",
              "    }\n",
              "</style>\n",
              "<table border=\"1\" class=\"dataframe\">\n",
              "  <thead>\n",
              "    <tr style=\"text-align: right;\">\n",
              "      <th></th>\n",
              "      <th>frequency</th>\n",
              "      <th>recency</th>\n",
              "      <th>T</th>\n",
              "      <th>monetary_value</th>\n",
              "    </tr>\n",
              "    <tr>\n",
              "      <th>CustomerID</th>\n",
              "      <th></th>\n",
              "      <th></th>\n",
              "      <th></th>\n",
              "      <th></th>\n",
              "    </tr>\n",
              "  </thead>\n",
              "  <tbody>\n",
              "    <tr>\n",
              "      <th>12347.0</th>\n",
              "      <td>6.0</td>\n",
              "      <td>365.0</td>\n",
              "      <td>367.0</td>\n",
              "      <td>599.701667</td>\n",
              "    </tr>\n",
              "  </tbody>\n",
              "</table>\n",
              "</div>"
            ],
            "text/plain": [
              "            frequency  recency      T  monetary_value\n",
              "CustomerID                                           \n",
              "12347.0           6.0    365.0  367.0      599.701667"
            ]
          },
          "execution_count": 5,
          "metadata": {},
          "output_type": "execute_result"
        }
      ],
      "source": [
        "metrics_df[metrics_df.index==12347]"
      ]
    },
    {
      "cell_type": "markdown",
      "id": "c5f64730",
      "metadata": {
        "id": "c5f64730"
      },
      "source": [
        "- 총 6번 구매했고 (frequency),\n",
        "- 마지막 구매일 - 첫 구매일은 365일 (recency),\n",
        "- 집계일 - 첫 구매일은 367일 (T)이며,\n",
        "- 평균 구매 금액은 600 정도 (monetary_value)임을 의미합니다."
      ]
    },
    {
      "cell_type": "markdown",
      "id": "b2dfcb9b",
      "metadata": {
        "id": "b2dfcb9b"
      },
      "source": [
        "- 직접 계산할 경우"
      ]
    },
    {
      "cell_type": "code",
      "execution_count": null,
      "id": "2d67df58",
      "metadata": {
        "ExecuteTime": {
          "end_time": "2023-11-29T06:46:13.339268Z",
          "start_time": "2023-11-29T06:46:13.326901Z"
        },
        "id": "2d67df58",
        "outputId": "349349f8-1701-4729-9e51-a36b7341b307"
      },
      "outputs": [
        {
          "name": "stdout",
          "output_type": "stream",
          "text": [
            "6\n",
            "365 days, 0:00:00\n",
            "367 days, 0:00:00\n",
            "599.7016666666667\n",
            "\n",
            "=>\n",
            "frequency (F)는 InvoiceDate의 유니크 개수 - 1 (첫 구매일은 포함하지 않습니다)\n",
            "recency (R)은 CustomerID = 12347 고객의 InvoiceDate 최대값 - 최소값\n",
            "time (T)은 집계일 current_date에서 InvoiceDate 최소값\n",
            "monetary_value (M)는 일별 구매 금액의 평균 (마찬가지로 첫 구매일은 포함하지 않습니다) 로 계산됩니다.\n",
            "\n",
            "F와 M을 계산할 때 첫 구매일을 제외하는 이유는 “반복되는 구매 행위”에 대한 통계를 계산하고 있기 때문에 시작점을 포함하지 않습니다.\n",
            "\n"
          ]
        }
      ],
      "source": [
        "example = df[df['CustomerID']==12347]\n",
        "\n",
        "# frequency = 6, 구매 일수\n",
        "print(len(example['InvoiceDate'].unique())-1)\n",
        "\n",
        "# recency = 365: 최대 주문일 - 최소 주문일\n",
        "print(max(example['InvoiceDate']) - min(example['InvoiceDate']))\n",
        "\n",
        "# T = 367: 집계일 - 최소 주문일\n",
        "print(current_date - min(example['InvoiceDate']))\n",
        "\n",
        "# monetary_value = 599.701667, 평균 구매 금액\n",
        "ex_daily_sales = example.groupby(\"InvoiceDate\")[\"Sales\"].sum()\n",
        "print(np.mean(ex_daily_sales[1:]))\n",
        "\n",
        "print('''\n",
        "=>\n",
        "frequency (F)는 InvoiceDate의 유니크 개수 - 1 (첫 구매일은 포함하지 않습니다)\n",
        "recency (R)은 CustomerID = 12347 고객의 InvoiceDate 최대값 - 최소값\n",
        "time (T)은 집계일 current_date에서 InvoiceDate 최소값\n",
        "monetary_value (M)는 일별 구매 금액의 평균 (마찬가지로 첫 구매일은 포함하지 않습니다) 로 계산됩니다.\n",
        "\n",
        "F와 M을 계산할 때 첫 구매일을 제외하는 이유는 “반복되는 구매 행위”에 대한 통계를 계산하고 있기 때문에 시작점을 포함하지 않습니다.\n",
        "''')"
      ]
    },
    {
      "cell_type": "markdown",
      "id": "1efad53d",
      "metadata": {
        "id": "1efad53d"
      },
      "source": [
        "# 최적의 L2 penalty 파라미터 찾기"
      ]
    },
    {
      "cell_type": "markdown",
      "id": "e26b870c",
      "metadata": {
        "id": "e26b870c"
      },
      "source": [
        "- 고객 각각의 RFMT를 계산했으니 이 데이터를 BG/NBD 모형과 Gamma-Gamma 모형의 INPUT으로 넣어주면 됩니다.\n",
        "\n",
        "- 그런데 모형을 적합시킬 때 다음과 같이 penalizer_coef 인자에 L2 penalty를 넣어준다면 모형을 좀 더 강건하게 만들어줄 수 있습니다."
      ]
    },
    {
      "cell_type": "code",
      "execution_count": null,
      "id": "95e9d89a",
      "metadata": {
        "ExecuteTime": {
          "end_time": "2023-11-29T06:46:13.345271Z",
          "start_time": "2023-11-29T06:46:13.342269Z"
        },
        "id": "95e9d89a"
      },
      "outputs": [],
      "source": [
        "# model = BetaGeoFitter(penalizer_coef=l2_reg)\n",
        "# model = GammaGammaFitter(penalizer_coef=l2_reg)"
      ]
    },
    {
      "cell_type": "markdown",
      "id": "d975944c",
      "metadata": {
        "id": "d975944c"
      },
      "source": [
        "## TRAIN / TEST 데이터 나누기\n",
        "    - 마지막 90일(3달)을 테스트 데이터로 구축"
      ]
    },
    {
      "cell_type": "code",
      "execution_count": null,
      "id": "0dd3162a",
      "metadata": {
        "ExecuteTime": {
          "end_time": "2023-11-29T06:46:22.408380Z",
          "start_time": "2023-11-29T06:46:13.347270Z"
        },
        "id": "0dd3162a",
        "outputId": "177a64da-b5d0-405f-f84c-3b374670ac25"
      },
      "outputs": [
        {
          "data": {
            "text/html": [
              "<div>\n",
              "<style scoped>\n",
              "    .dataframe tbody tr th:only-of-type {\n",
              "        vertical-align: middle;\n",
              "    }\n",
              "\n",
              "    .dataframe tbody tr th {\n",
              "        vertical-align: top;\n",
              "    }\n",
              "\n",
              "    .dataframe thead th {\n",
              "        text-align: right;\n",
              "    }\n",
              "</style>\n",
              "<table border=\"1\" class=\"dataframe\">\n",
              "  <thead>\n",
              "    <tr style=\"text-align: right;\">\n",
              "      <th></th>\n",
              "      <th>frequency_cal</th>\n",
              "      <th>recency_cal</th>\n",
              "      <th>T_cal</th>\n",
              "      <th>monetary_value_cal</th>\n",
              "      <th>frequency_holdout</th>\n",
              "      <th>monetary_value_holdout</th>\n",
              "      <th>duration_holdout</th>\n",
              "    </tr>\n",
              "    <tr>\n",
              "      <th>CustomerID</th>\n",
              "      <th></th>\n",
              "      <th></th>\n",
              "      <th></th>\n",
              "      <th></th>\n",
              "      <th></th>\n",
              "      <th></th>\n",
              "      <th></th>\n",
              "    </tr>\n",
              "  </thead>\n",
              "  <tbody>\n",
              "    <tr>\n",
              "      <th>12346.0</th>\n",
              "      <td>0.0</td>\n",
              "      <td>0.0</td>\n",
              "      <td>235.0</td>\n",
              "      <td>0.0000</td>\n",
              "      <td>0.0</td>\n",
              "      <td>0.000000</td>\n",
              "      <td>90.0</td>\n",
              "    </tr>\n",
              "    <tr>\n",
              "      <th>12347.0</th>\n",
              "      <td>4.0</td>\n",
              "      <td>238.0</td>\n",
              "      <td>277.0</td>\n",
              "      <td>519.7675</td>\n",
              "      <td>2.0</td>\n",
              "      <td>26.192069</td>\n",
              "      <td>90.0</td>\n",
              "    </tr>\n",
              "    <tr>\n",
              "      <th>12348.0</th>\n",
              "      <td>2.0</td>\n",
              "      <td>110.0</td>\n",
              "      <td>268.0</td>\n",
              "      <td>297.2200</td>\n",
              "      <td>1.0</td>\n",
              "      <td>103.333333</td>\n",
              "      <td>90.0</td>\n",
              "    </tr>\n",
              "    <tr>\n",
              "      <th>12350.0</th>\n",
              "      <td>0.0</td>\n",
              "      <td>0.0</td>\n",
              "      <td>220.0</td>\n",
              "      <td>0.0000</td>\n",
              "      <td>0.0</td>\n",
              "      <td>0.000000</td>\n",
              "      <td>90.0</td>\n",
              "    </tr>\n",
              "    <tr>\n",
              "      <th>12352.0</th>\n",
              "      <td>3.0</td>\n",
              "      <td>34.0</td>\n",
              "      <td>206.0</td>\n",
              "      <td>421.7700</td>\n",
              "      <td>3.0</td>\n",
              "      <td>20.090000</td>\n",
              "      <td>90.0</td>\n",
              "    </tr>\n",
              "  </tbody>\n",
              "</table>\n",
              "</div>"
            ],
            "text/plain": [
              "            frequency_cal  recency_cal  T_cal  monetary_value_cal  \\\n",
              "CustomerID                                                          \n",
              "12346.0               0.0          0.0  235.0              0.0000   \n",
              "12347.0               4.0        238.0  277.0            519.7675   \n",
              "12348.0               2.0        110.0  268.0            297.2200   \n",
              "12350.0               0.0          0.0  220.0              0.0000   \n",
              "12352.0               3.0         34.0  206.0            421.7700   \n",
              "\n",
              "            frequency_holdout  monetary_value_holdout  duration_holdout  \n",
              "CustomerID                                                               \n",
              "12346.0                   0.0                0.000000              90.0  \n",
              "12347.0                   2.0               26.192069              90.0  \n",
              "12348.0                   1.0              103.333333              90.0  \n",
              "12350.0                   0.0                0.000000              90.0  \n",
              "12352.0                   3.0               20.090000              90.0  "
            ]
          },
          "execution_count": 8,
          "metadata": {},
          "output_type": "execute_result"
        }
      ],
      "source": [
        "holdout_days = 90\n",
        "calibration_end_date = current_date - timedelta(days = holdout_days)\n",
        "\n",
        "metrics_cal_df = calibration_and_holdout_data(df\n",
        "                                          ,customer_id_col = 'CustomerID'\n",
        "                                          ,datetime_col = 'InvoiceDate'\n",
        "                                          ,calibration_period_end=calibration_end_date # train 데이터 기간\n",
        "                                          ,observation_period_end=current_date         # 끝 기간\n",
        "                                          ,monetary_value_col='Sales')\n",
        "\n",
        "metrics_cal_df.head()\n"
      ]
    },
    {
      "cell_type": "markdown",
      "id": "de473726",
      "metadata": {
        "id": "de473726"
      },
      "source": [
        "- calibration 기간 동안의 RFMT를 계산한 값은 _cal이 붙고, TEST 기간 동안의 F와 M을 계산한 값은 _holdout이 붙습니다\n",
        "- duration_holdout은 holdout data이 며칠인지 나타내는 컬럼"
      ]
    },
    {
      "cell_type": "markdown",
      "id": "e9c28f29",
      "metadata": {
        "id": "e9c28f29"
      },
      "source": [
        "## 최종 데이터 만들기"
      ]
    },
    {
      "cell_type": "markdown",
      "id": "68e34c38",
      "metadata": {
        "id": "68e34c38"
      },
      "source": [
        "- BG/NBD 모형과 Gamma-Gamma 모형의 INPUT을 정리\n",
        "- 고객별 RFMT가 들어간 데이터에서 frequency가 1 이상인 데이터만 가져오기\n",
        "    - 이 고객들은 전체 기간 동안 구매 일수가 1일인 유저입니다. (frequency는 총 구매일수 - 1) 이들은 “반복적인” 구매를 한 고객들이 아니라서 BG/NBD 모형 가정에서 벗어난 고객들이기 때문에 제외"
      ]
    },
    {
      "cell_type": "markdown",
      "id": "94769c6b",
      "metadata": {
        "id": "94769c6b"
      },
      "source": [
        "- whole_filtered_df:\n",
        "    - L2 페널티를 최적화한 후에 제일 마지막에 LTV를 계산할 때 쓸 데이터이고 (calibration / holdout을 나누지 않은 데이터)\n",
        "- filtered_df:\n",
        "    - L2 페널티를 최적화하기 위해 calibration / holdout을 나눈 데이터입니다."
      ]
    },
    {
      "cell_type": "code",
      "execution_count": null,
      "id": "66318dca",
      "metadata": {
        "ExecuteTime": {
          "end_time": "2023-11-29T06:46:22.415829Z",
          "start_time": "2023-11-29T06:46:22.409828Z"
        },
        "id": "66318dca"
      },
      "outputs": [],
      "source": [
        "## frequency가 0인 것은 제외하기\n",
        "whole_filtered_df = metrics_df[metrics_df.frequency > 0]\n",
        "filtered_df       = metrics_cal_df[metrics_cal_df.frequency_cal > 0]"
      ]
    },
    {
      "cell_type": "markdown",
      "id": "68598377",
      "metadata": {
        "id": "68598377"
      },
      "source": [
        "- score_model:\n",
        "    - 실제값과 예측값의 차이에 대한 지표 (MSE / RMSE/ MAE)를 계산하는 함수\n",
        "- evaluate_bgnbd_model:\n",
        "    - calibration data와 l2_reg를 넣어 BG/NBD 모형을 적합시키고, holdout data의 구매 일수 (frequency)에 대한 실제값과 예측값에 대한 MSE를 계산하는 함수\n",
        "- evaluate_gg_model:\n",
        "    - calibration data와 l2_reg를 넣어 Gamma-Gamma 모형을 적합시키고, holdout data의 평균 구매 금액 (monetary value)에 대한 실제값과 예측값에 대한 MSE를 계산하는 함수"
      ]
    },
    {
      "cell_type": "code",
      "execution_count": null,
      "id": "fa0de353",
      "metadata": {
        "ExecuteTime": {
          "end_time": "2023-11-29T06:46:22.423834Z",
          "start_time": "2023-11-29T06:46:22.416829Z"
        },
        "id": "fa0de353"
      },
      "outputs": [],
      "source": [
        "def score_model(actuals, predicted, metric='mse'):\n",
        "\n",
        "    metric = metric.lower()\n",
        "    mse = np.sum(np.square(actuals-predicted))/actuals.shape[0]\n",
        "\n",
        "    # MSE / RMSE\n",
        "    if metric=='mse': # or metric=='rmse':\n",
        "        val = mse\n",
        "    elif metric=='rmse':\n",
        "        val = np.sqrt(mse)\n",
        "    # MAE\n",
        "    elif metric=='mae':\n",
        "        val = np.sum(np.abs(actuals-predicted))/actuals.shape[0]\n",
        "    else:\n",
        "        val = None\n",
        "\n",
        "    return val\n",
        "\n",
        "# BG/NBD 모형 평가\n",
        "def evaluate_bgnbd_model(param):\n",
        "\n",
        "    data   = inputs\n",
        "    l2_reg = param\n",
        "\n",
        "    # 모형 적합\n",
        "    model = BetaGeoFitter(penalizer_coef=l2_reg)\n",
        "    model.fit(data['frequency_cal'], data['recency_cal'], data['T_cal'])\n",
        "\n",
        "    # 모형 평가\n",
        "    frequency_actual = data['frequency_holdout']\n",
        "    frequency_predicted = model.predict(data['duration_holdout']\n",
        "                                        , data['frequency_cal']\n",
        "                                        , data['recency_cal']\n",
        "                                        , data['T_cal']\n",
        "                                       )\n",
        "    mse = score_model(frequency_actual, frequency_predicted, 'mse')\n",
        "\n",
        "    return {'loss': mse, 'status': STATUS_OK}\n",
        "\n",
        "# Gamma/Gamma 모델 평가\n",
        "def evaluate_gg_model(param):\n",
        "\n",
        "    data   = inputs\n",
        "    l2_reg = param\n",
        "\n",
        "    # GammaGamma 모형 적합\n",
        "    model = GammaGammaFitter(penalizer_coef=l2_reg)\n",
        "    model.fit(data['frequency_cal'], data['monetary_value_cal'])\n",
        "\n",
        "    # 모형 평가\n",
        "    monetary_actual = data['monetary_value_holdout']\n",
        "    monetary_predicted = model.conditional_expected_average_profit(data['frequency_holdout'], data['monetary_value_holdout'])\n",
        "    mse = score_model(monetary_actual, monetary_predicted, 'mse')\n",
        "\n",
        "    # return score and status\n",
        "    return {'loss': mse, 'status': STATUS_OK}"
      ]
    },
    {
      "cell_type": "markdown",
      "id": "e01cec6e",
      "metadata": {
        "id": "e01cec6e"
      },
      "source": [
        "- BG/NBD 모형의 최적 L2 Penalty"
      ]
    },
    {
      "cell_type": "code",
      "execution_count": null,
      "id": "1ba35a17",
      "metadata": {
        "ExecuteTime": {
          "end_time": "2023-11-29T06:46:33.531316Z",
          "start_time": "2023-11-29T06:46:22.425832Z"
        },
        "id": "1ba35a17",
        "outputId": "e5620ed2-65da-4abe-dbcc-e80572cf85de"
      },
      "outputs": [
        {
          "name": "stdout",
          "output_type": "stream",
          "text": [
            "100%|██████████████████████████████████████████████| 100/100 [00:11<00:00,  9.02trial/s, best loss: 2.9944108626186776]\n",
            "0.9994862675184638\n"
          ]
        }
      ],
      "source": [
        "search_space = hp.uniform('l2', 0.0, 1.0)\n",
        "algo = tpe.suggest\n",
        "trials = Trials()\n",
        "inputs = filtered_df\n",
        "\n",
        "argmin = fmin(\n",
        "  fn = evaluate_bgnbd_model, # 목적함수\n",
        "  space = search_space,      # 파라미터 공간\n",
        "  algo = algo,               # 최적화 알고리즘: Tree of Parzen Estimators (TPE)\n",
        "  max_evals=100,             # 반복수\n",
        "  trials=trials\n",
        "  )\n",
        "\n",
        "l2_bgnbd = space_eval(search_space,argmin)\n",
        "print(l2_bgnbd)"
      ]
    },
    {
      "cell_type": "markdown",
      "id": "1aaa52f7",
      "metadata": {
        "id": "1aaa52f7"
      },
      "source": [
        "- Gamma-Gamma 모형의 최적 L2 Penalty"
      ]
    },
    {
      "cell_type": "code",
      "execution_count": null,
      "id": "b17f6f66",
      "metadata": {
        "ExecuteTime": {
          "end_time": "2023-11-29T06:46:37.622231Z",
          "start_time": "2023-11-29T06:46:33.532318Z"
        },
        "id": "b17f6f66",
        "outputId": "0f4bb4c9-cb92-42ed-a72c-b9bb178cdaa6"
      },
      "outputs": [
        {
          "name": "stdout",
          "output_type": "stream",
          "text": [
            "100%|███████████████████████████████████████████████| 100/100 [00:04<00:00, 24.48trial/s, best loss: 350.5635453332647]\n",
            "0.009810764321253607\n"
          ]
        }
      ],
      "source": [
        "trials = Trials()\n",
        "\n",
        "# GammaGamma\n",
        "argmin = fmin(\n",
        "  fn = evaluate_gg_model,\n",
        "  space = search_space,\n",
        "  algo = algo,\n",
        "  max_evals=100,\n",
        "  trials=trials\n",
        "  )\n",
        "\n",
        "l2_gg = space_eval(search_space,argmin)\n",
        "print(l2_gg)"
      ]
    },
    {
      "cell_type": "markdown",
      "id": "c265a02a",
      "metadata": {
        "id": "c265a02a"
      },
      "source": [
        "## BG/NBD 모형 및 Gamma-Gamma 모형 적합하기"
      ]
    },
    {
      "cell_type": "markdown",
      "id": "03c6b116",
      "metadata": {
        "id": "03c6b116"
      },
      "source": [
        "### BG/NBD 모형 적합\n",
        "- BG/NBD 모형은 고객별 미래의 구매 횟수를 예측하기 위한 모형"
      ]
    },
    {
      "cell_type": "code",
      "execution_count": null,
      "id": "855ed574",
      "metadata": {
        "ExecuteTime": {
          "end_time": "2023-11-29T06:46:37.744258Z",
          "start_time": "2023-11-29T06:46:37.623231Z"
        },
        "id": "855ed574",
        "outputId": "8a026049-169b-4e8c-bbb9-8c1fcbfcd749"
      },
      "outputs": [
        {
          "name": "stdout",
          "output_type": "stream",
          "text": [
            "MSE: 2.9944108626186776\n",
            "\n",
            "=> 평균 제곱오차가 +- 3일 정도라고 할 수 있다.\n",
            "\n"
          ]
        }
      ],
      "source": [
        "lifetimes_model = BetaGeoFitter(penalizer_coef=l2_bgnbd) #l2_bgnbd = hyperopt로 나온 결과\n",
        "# calibration 데이터의 R,F,T로 모형 적합\n",
        "lifetimes_model.fit(filtered_df['frequency_cal'], filtered_df['recency_cal'], filtered_df['T_cal'])\n",
        "\n",
        "# holdout 데이터로 모델 평가: F의 실제값과 예측값의 MSE\n",
        "frequency_actual = filtered_df['frequency_holdout']\n",
        "frequency_predicted = lifetimes_model.predict(filtered_df['duration_holdout']\n",
        "                                    ,filtered_df['frequency_cal']\n",
        "                                    , filtered_df['recency_cal']\n",
        "                                    , filtered_df['T_cal'])\n",
        "mse = score_model(frequency_actual, frequency_predicted, 'mse')\n",
        "print('MSE: {0}'.format(mse))\n",
        "print(\n",
        "'''\n",
        "=> 평균 제곱오차가 +- 3일 정도라고 할 수 있다.\n",
        "'''\n",
        ")"
      ]
    },
    {
      "cell_type": "markdown",
      "id": "b42387e4",
      "metadata": {
        "id": "b42387e4"
      },
      "source": [
        "- BG/NBD 모형 해석"
      ]
    },
    {
      "cell_type": "markdown",
      "id": "e143cb99",
      "metadata": {
        "id": "e143cb99"
      },
      "source": [
        "- BG/NBD 모형 가정:\n",
        "    - 고객이 남아있는 동안, 일정한 기간 T 동안의 구매 횟수는 Pois(λT)를 따릅니다. 위에서 말씀 드렸듯이 1일 간 Pois (1/12)를 따른다면 T= 1년일 경우 Pois (30)을 따르게 되겠죠! (포아송의 모수인 λT는 예상 구매 횟수 를 의미합니다)\n",
        "    - 고객마다 일정한 기간 동안 구매하는 횟수는 다릅니다. 이는 λ ~ Gamma (r,α)을 따릅니다.\n",
        "    - j번째 구매가 마지막이고 더 이상 구매를 하지 않을 확률 (이탈률)은 p입니다. 이탈할 때까지의 구매 횟수는 Geo (p)를 따릅니다.\n",
        "    - 고객마다 더 이상 구매를 하지 않을 확률 (이탈률)은 다릅니다. 이탈률 p는 p ~ Beta (a,b)를 따릅니다.\n",
        "    - 고객별 일정 기간 동안의 구매 횟수와 구매를 하지 않을 확률은 서로 영향을 주지 않습니다.\n",
        "- 여기서 2번에 해당하는 Gamma(r, α)와 4번에 해당하는 Beta(a, b)가 lifetimes_model에서 추정되는 파라미터.    \n",
        "- 이를 활용해 고객마다 일정한 기간 동안 구매하는 횟수의 분포와 고객별 더 이상 구매하지 않을 확률의 분포를 그릴 수 있다."
      ]
    },
    {
      "cell_type": "code",
      "execution_count": null,
      "id": "1049bd7a",
      "metadata": {
        "ExecuteTime": {
          "end_time": "2023-11-29T06:46:37.753261Z",
          "start_time": "2023-11-29T06:46:37.745258Z"
        },
        "id": "1049bd7a",
        "outputId": "44e0ea95-1b36-4132-acc7-9a368a0bebc0"
      },
      "outputs": [
        {
          "data": {
            "text/html": [
              "<div>\n",
              "<style scoped>\n",
              "    .dataframe tbody tr th:only-of-type {\n",
              "        vertical-align: middle;\n",
              "    }\n",
              "\n",
              "    .dataframe tbody tr th {\n",
              "        vertical-align: top;\n",
              "    }\n",
              "\n",
              "    .dataframe thead th {\n",
              "        text-align: right;\n",
              "    }\n",
              "</style>\n",
              "<table border=\"1\" class=\"dataframe\">\n",
              "  <thead>\n",
              "    <tr style=\"text-align: right;\">\n",
              "      <th></th>\n",
              "      <th>coef</th>\n",
              "      <th>se(coef)</th>\n",
              "      <th>lower 95% bound</th>\n",
              "      <th>upper 95% bound</th>\n",
              "    </tr>\n",
              "  </thead>\n",
              "  <tbody>\n",
              "    <tr>\n",
              "      <th>r</th>\n",
              "      <td>0.452821</td>\n",
              "      <td>0.009715</td>\n",
              "      <td>0.433780</td>\n",
              "      <td>0.471863</td>\n",
              "    </tr>\n",
              "    <tr>\n",
              "      <th>alpha</th>\n",
              "      <td>23.817382</td>\n",
              "      <td>1.007104</td>\n",
              "      <td>21.843457</td>\n",
              "      <td>25.791307</td>\n",
              "    </tr>\n",
              "    <tr>\n",
              "      <th>a</th>\n",
              "      <td>0.000557</td>\n",
              "      <td>0.000737</td>\n",
              "      <td>-0.000887</td>\n",
              "      <td>0.002001</td>\n",
              "    </tr>\n",
              "    <tr>\n",
              "      <th>b</th>\n",
              "      <td>0.012793</td>\n",
              "      <td>0.015664</td>\n",
              "      <td>-0.017909</td>\n",
              "      <td>0.043494</td>\n",
              "    </tr>\n",
              "  </tbody>\n",
              "</table>\n",
              "</div>"
            ],
            "text/plain": [
              "            coef  se(coef)  lower 95% bound  upper 95% bound\n",
              "r       0.452821  0.009715         0.433780         0.471863\n",
              "alpha  23.817382  1.007104        21.843457        25.791307\n",
              "a       0.000557  0.000737        -0.000887         0.002001\n",
              "b       0.012793  0.015664        -0.017909         0.043494"
            ]
          },
          "execution_count": 14,
          "metadata": {},
          "output_type": "execute_result"
        }
      ],
      "source": [
        "lifetimes_model.summary"
      ]
    },
    {
      "cell_type": "markdown",
      "id": "0a93cca7",
      "metadata": {
        "id": "0a93cca7"
      },
      "source": [
        "- 1) 고객마다 일정한 기간 동안 구매하는 횟수 λ는 Gamma(r,alpha)을 따른다."
      ]
    },
    {
      "cell_type": "code",
      "execution_count": null,
      "id": "80bcce55",
      "metadata": {
        "ExecuteTime": {
          "end_time": "2023-11-29T06:46:37.872287Z",
          "start_time": "2023-11-29T06:46:37.754260Z"
        },
        "id": "80bcce55",
        "outputId": "4c7e85ca-5900-4f0a-962e-63e47288654e"
      },
      "outputs": [
        {
          "name": "stdout",
          "output_type": "stream",
          "text": [
            "\n",
            "여기서 T 기간동안의 평균 구매 횟수가 λT 이므로 λ에 대한 분포는 1일 단위입니다.\n",
            "위 그림에서 0.2쯤부터 확률이 0으로 수렴하고 있는데 대부분 고객들이 1일의 평균 구매 횟수는 \n",
            "최대 0.2 정도임을 의미합니다. 즉, 최대 5일에 한 번 꼴로 구매한다라 볼 수도 있다.\n",
            "\n"
          ]
        },
        {
          "data": {
            "image/png": "[encoded data removed]",
            "text/plain": [
              "<Figure size 432x288 with 1 Axes>"
            ]
          },
          "metadata": {
            "needs_background": "light"
          },
          "output_type": "display_data"
        }
      ],
      "source": [
        "from scipy.stats import gamma\n",
        "import matplotlib.pyplot as plt\n",
        "\n",
        "coefs = lifetimes_model.summary['coef']\n",
        "x = np.linspace (0, 2, 100)\n",
        "y = gamma.pdf(x, a=coefs['r'], scale=1/coefs['alpha']) # BG/NBD에서의 모수 alpha는 scale 모수가 아닌 rate 모수이므로 역수!\n",
        "\n",
        "plt.plot(x, y)\n",
        "\n",
        "print('''\n",
        "여기서 T 기간동안의 평균 구매 횟수가 λT 이므로 λ에 대한 분포는 1일 단위입니다.\n",
        "위 그림에서 0.2쯤부터 확률이 0으로 수렴하고 있는데 대부분 고객들이 1일의 평균 구매 횟수는\n",
        "최대 0.2 정도임을 의미합니다. 즉, 최대 5일에 한 번 꼴로 구매한다라 볼 수도 있다.\n",
        "''')"
      ]
    },
    {
      "cell_type": "markdown",
      "id": "a3c65b5c",
      "metadata": {
        "id": "a3c65b5c"
      },
      "source": [
        "- 2) 고객이 더 이상 구매를 하지 않을 확률은 Beta(a,b)를 따른다."
      ]
    },
    {
      "cell_type": "code",
      "execution_count": null,
      "id": "62dc3eb8",
      "metadata": {
        "ExecuteTime": {
          "end_time": "2023-11-29T06:46:37.961315Z",
          "start_time": "2023-11-29T06:46:37.874289Z"
        },
        "id": "62dc3eb8",
        "outputId": "da264ffb-f880-42dc-dcf1-bb7840227b81"
      },
      "outputs": [
        {
          "name": "stdout",
          "output_type": "stream",
          "text": [
            "\n",
            "분포가 0과 1 근처로 양극단에 위치한 것을 볼 수 있습니다. \n",
            "즉 더 이상 구매를 하지 않을 확률이 0인 active한 유저도 많고, \n",
            "확률이 1 근처인 inactive한 유저도 많음을 알 수 있습니다.\n",
            "\n"
          ]
        },
        {
          "data": {
            "image/png": "[encoded data removed]",
            "text/plain": [
              "<Figure size 432x288 with 1 Axes>"
            ]
          },
          "metadata": {
            "needs_background": "light"
          },
          "output_type": "display_data"
        }
      ],
      "source": [
        "from scipy.stats import gamma,beta\n",
        "import matplotlib.pyplot as plt\n",
        "\n",
        "coefs = lifetimes_model.summary['coef']\n",
        "x = np.linspace (0, 1, 100)\n",
        "y = beta.pdf(x, a=coefs['a'], b=coefs['b']) # BG/NBD에서의 모수 alpha는 scale 모수가 아닌 rate 모수이므로 역수!\n",
        "\n",
        "plt.plot(x, y)\n",
        "\n",
        "print('''\n",
        "분포가 0과 1 근처로 양극단에 위치한 것을 볼 수 있습니다.\n",
        "즉 더 이상 구매를 하지 않을 확률이 0인 active한 유저도 많고,\n",
        "확률이 1 근처인 inactive한 유저도 많음을 알 수 있습니다.\n",
        "''')"
      ]
    },
    {
      "cell_type": "markdown",
      "id": "9db28c9b",
      "metadata": {
        "id": "9db28c9b"
      },
      "source": [
        "### Gamma-Gamma 모형 적합\n",
        "- 평균 구매 금액을 모델링 하기 위한 Gamma-Gamma모형 적합"
      ]
    },
    {
      "cell_type": "code",
      "execution_count": null,
      "id": "f963f9b6",
      "metadata": {
        "ExecuteTime": {
          "end_time": "2023-11-29T06:46:38.001334Z",
          "start_time": "2023-11-29T06:46:37.963307Z"
        },
        "id": "f963f9b6",
        "outputId": "53df6c12-8072-4e38-a2b6-390e13f39f0d"
      },
      "outputs": [
        {
          "name": "stdout",
          "output_type": "stream",
          "text": [
            "MSE: 350.5635453332647\n"
          ]
        }
      ],
      "source": [
        "spend_model = GammaGammaFitter(penalizer_coef=l2_gg)\n",
        "spend_model.fit(filtered_df['frequency_cal'], filtered_df['monetary_value_cal'])\n",
        "\n",
        "# conditional_expected_average_profit: 고객별 평균 구매 금액 예측\n",
        "monetary_actual = filtered_df['monetary_value_holdout']\n",
        "monetary_predicted = spend_model.conditional_expected_average_profit(filtered_df['frequency_holdout']\n",
        "                                                                    ,filtered_df['monetary_value_holdout'])\n",
        "\n",
        "mse = score_model(monetary_actual, monetary_predicted, 'mse')\n",
        "\n",
        "print('MSE: {0}'.format(mse))"
      ]
    },
    {
      "cell_type": "markdown",
      "id": "fbcc1c9b",
      "metadata": {
        "id": "fbcc1c9b"
      },
      "source": [
        "- 히스토그램을 통해 실제와 예측된 평균 구매금액 차이 확인"
      ]
    },
    {
      "cell_type": "code",
      "execution_count": null,
      "id": "e977e3d2",
      "metadata": {
        "ExecuteTime": {
          "end_time": "2023-11-29T06:46:38.215370Z",
          "start_time": "2023-11-29T06:46:38.002331Z"
        },
        "id": "e977e3d2",
        "outputId": "a8953b6a-158e-45d9-b198-4407262e39f1"
      },
      "outputs": [
        {
          "name": "stdout",
          "output_type": "stream",
          "text": [
            "어느 정도 분포가 비슷함을 볼 수 있다.\n"
          ]
        },
        {
          "data": {
            "image/png": "[encoded data removed]",
            "text/plain": [
              "<Figure size 1080x360 with 1 Axes>"
            ]
          },
          "metadata": {
            "needs_background": "light"
          },
          "output_type": "display_data"
        }
      ],
      "source": [
        "bins = 100\n",
        "plt.figure(figsize=(15, 5))\n",
        "\n",
        "plt.hist(monetary_actual, bins, label='actual', histtype='bar', color='STEELBLUE', rwidth=0.99)\n",
        "plt.hist(monetary_predicted, bins, label='predict', histtype='step', color='ORANGE',  rwidth=0.99)\n",
        "plt.legend(loc='upper right')\n",
        "\n",
        "print('어느 정도 분포가 비슷함을 볼 수 있다.')"
      ]
    },
    {
      "cell_type": "markdown",
      "id": "a8a63450",
      "metadata": {
        "id": "a8a63450"
      },
      "source": [
        "- 패널티를 주지 않고 결과 비교 시각화"
      ]
    },
    {
      "cell_type": "code",
      "execution_count": null,
      "id": "6f5a956c",
      "metadata": {
        "ExecuteTime": {
          "end_time": "2023-11-29T06:46:38.541438Z",
          "start_time": "2023-11-29T06:46:38.217363Z"
        },
        "id": "6f5a956c",
        "outputId": "3c47ca49-dd32-41fa-8183-14028a1d1208"
      },
      "outputs": [
        {
          "name": "stdout",
          "output_type": "stream",
          "text": [
            "penalized_coef=0으로 두었을 땐 파란 막대와 주황 막대의 분포가 전혀 다름을 확인할 수 있다.\n"
          ]
        },
        {
          "data": {
            "image/png": "[encoded data removed]",
            "text/plain": [
              "<Figure size 1080x360 with 1 Axes>"
            ]
          },
          "metadata": {
            "needs_background": "light"
          },
          "output_type": "display_data"
        }
      ],
      "source": [
        "# penalizer_coef 없이 했을 때의 결과\n",
        "spend_model = GammaGammaFitter(penalizer_coef=0)\n",
        "spend_model.fit(filtered_df['frequency_cal'], filtered_df['monetary_value_cal'])\n",
        "\n",
        "# 평가\n",
        "monetary_actual = filtered_df['monetary_value_holdout']\n",
        "monetary_predicted = spend_model.conditional_expected_average_profit(filtered_df['frequency_holdout']\n",
        "                                                                    ,filtered_df['monetary_value_holdout'])\n",
        "\n",
        "mse = score_model(monetary_actual, monetary_predicted, 'mse')\n",
        "\n",
        "bins = 100\n",
        "plt.figure(figsize=(15, 5))\n",
        "\n",
        "plt.hist(monetary_actual, bins, label='actual', histtype='bar', color='STEELBLUE', rwidth=0.99)\n",
        "plt.hist( monetary_predicted, bins, label='predict', histtype='step', color='ORANGE',  rwidth=0.99)\n",
        "plt.legend(loc='upper right')\n",
        "\n",
        "print('penalized_coef=0으로 두었을 땐 파란 막대와 주황 막대의 분포가 전혀 다름을 확인할 수 있다.')"
      ]
    },
    {
      "cell_type": "markdown",
      "id": "51d2d2e9",
      "metadata": {
        "id": "51d2d2e9"
      },
      "source": [
        "# LTV 구하기"
      ]
    },
    {
      "cell_type": "markdown",
      "id": "c5ac3d31",
      "metadata": {
        "id": "c5ac3d31"
      },
      "source": [
        "-  BG/NBD 모형과 Gamma-Gamma 모형을 합쳐 LTV 구하는 부분\n",
        "    - lifetimes_model ( BetaGeoFitter )\n",
        "    - spend_model ( GammaGammaFitter )\n",
        "    - time : 향후 몇 개월동안의 LTV를 볼 것인지 ( time=12개월 )\n",
        "    - discount_rate : 어느정도의 할인율을 적용할 것인지"
      ]
    },
    {
      "cell_type": "code",
      "execution_count": null,
      "id": "cb55680f",
      "metadata": {
        "ExecuteTime": {
          "end_time": "2023-11-29T06:46:38.714482Z",
          "start_time": "2023-11-29T06:46:38.543446Z"
        },
        "id": "cb55680f"
      },
      "outputs": [],
      "source": [
        "final_df = whole_filtered_df.copy()\n",
        "final_df['ltv'] = spend_model.customer_lifetime_value(lifetimes_model,\n",
        "                                                     final_df['frequency'],\n",
        "                                                     final_df['recency'],\n",
        "                                                     final_df['T'],\n",
        "                                                     final_df['monetary_value'],\n",
        "                                                     time=12,\n",
        "                                                     discount_rate=0.01 # monthly discount rate ~12.7% 연간\n",
        "                                                     )"
      ]
    },
    {
      "cell_type": "markdown",
      "id": "3f02f6f3",
      "metadata": {
        "id": "3f02f6f3"
      },
      "source": [
        "- 365일 동안의 예상 구매 횟수 구할 시"
      ]
    },
    {
      "cell_type": "code",
      "execution_count": null,
      "id": "d24644e2",
      "metadata": {
        "ExecuteTime": {
          "end_time": "2023-11-29T06:46:38.726485Z",
          "start_time": "2023-11-29T06:46:38.715484Z"
        },
        "id": "d24644e2"
      },
      "outputs": [],
      "source": [
        "t=365 #365일\n",
        "final_df['predicted_purchases'] = lifetimes_model.conditional_expected_number_of_purchases_up_to_time(t\n",
        "                                                                                      , final_df['frequency']\n",
        "                                                                                     , final_df['recency']\n",
        "                                                                                     , final_df['T'])"
      ]
    },
    {
      "cell_type": "code",
      "execution_count": null,
      "id": "a049ee06",
      "metadata": {
        "ExecuteTime": {
          "end_time": "2023-11-29T06:46:38.736488Z",
          "start_time": "2023-11-29T06:46:38.731479Z"
        },
        "id": "a049ee06"
      },
      "outputs": [],
      "source": [
        "final_df['predicted_monetary_value'] = spend_model.conditional_expected_average_profit(final_df['frequency']\n",
        "                                                                    ,final_df['monetary_value'])"
      ]
    },
    {
      "cell_type": "code",
      "execution_count": null,
      "id": "eae780bd",
      "metadata": {
        "ExecuteTime": {
          "end_time": "2023-11-29T06:46:38.755492Z",
          "start_time": "2023-11-29T06:46:38.738481Z"
        },
        "id": "eae780bd",
        "outputId": "e24e8c5d-a26e-455f-be76-8ec2ac7e6de5"
      },
      "outputs": [
        {
          "data": {
            "text/html": [
              "<div>\n",
              "<style scoped>\n",
              "    .dataframe tbody tr th:only-of-type {\n",
              "        vertical-align: middle;\n",
              "    }\n",
              "\n",
              "    .dataframe tbody tr th {\n",
              "        vertical-align: top;\n",
              "    }\n",
              "\n",
              "    .dataframe thead th {\n",
              "        text-align: right;\n",
              "    }\n",
              "</style>\n",
              "<table border=\"1\" class=\"dataframe\">\n",
              "  <thead>\n",
              "    <tr style=\"text-align: right;\">\n",
              "      <th></th>\n",
              "      <th>frequency</th>\n",
              "      <th>recency</th>\n",
              "      <th>T</th>\n",
              "      <th>monetary_value</th>\n",
              "      <th>ltv</th>\n",
              "      <th>predicted_purchases</th>\n",
              "      <th>predicted_monetary_value</th>\n",
              "    </tr>\n",
              "    <tr>\n",
              "      <th>CustomerID</th>\n",
              "      <th></th>\n",
              "      <th></th>\n",
              "      <th></th>\n",
              "      <th></th>\n",
              "      <th></th>\n",
              "      <th></th>\n",
              "      <th></th>\n",
              "    </tr>\n",
              "  </thead>\n",
              "  <tbody>\n",
              "    <tr>\n",
              "      <th>17450.0</th>\n",
              "      <td>26.0</td>\n",
              "      <td>359.0</td>\n",
              "      <td>367.0</td>\n",
              "      <td>7404.690385</td>\n",
              "      <td>163233.284366</td>\n",
              "      <td>24.699139</td>\n",
              "      <td>7144.098119</td>\n",
              "    </tr>\n",
              "    <tr>\n",
              "      <th>14096.0</th>\n",
              "      <td>16.0</td>\n",
              "      <td>97.0</td>\n",
              "      <td>101.0</td>\n",
              "      <td>4071.434375</td>\n",
              "      <td>171476.631670</td>\n",
              "      <td>48.085829</td>\n",
              "      <td>3854.836146</td>\n",
              "    </tr>\n",
              "    <tr>\n",
              "      <th>16446.0</th>\n",
              "      <td>1.0</td>\n",
              "      <td>205.0</td>\n",
              "      <td>205.0</td>\n",
              "      <td>168469.600000</td>\n",
              "      <td>172828.907358</td>\n",
              "      <td>2.219387</td>\n",
              "      <td>84178.331306</td>\n",
              "    </tr>\n",
              "    <tr>\n",
              "      <th>18102.0</th>\n",
              "      <td>25.0</td>\n",
              "      <td>367.0</td>\n",
              "      <td>367.0</td>\n",
              "      <td>9349.477200</td>\n",
              "      <td>197946.884059</td>\n",
              "      <td>23.765789</td>\n",
              "      <td>9003.615503</td>\n",
              "    </tr>\n",
              "    <tr>\n",
              "      <th>14646.0</th>\n",
              "      <td>44.0</td>\n",
              "      <td>353.0</td>\n",
              "      <td>354.0</td>\n",
              "      <td>6366.705909</td>\n",
              "      <td>247585.437580</td>\n",
              "      <td>42.934914</td>\n",
              "      <td>6233.543383</td>\n",
              "    </tr>\n",
              "  </tbody>\n",
              "</table>\n",
              "</div>"
            ],
            "text/plain": [
              "            frequency  recency      T  monetary_value            ltv  \\\n",
              "CustomerID                                                             \n",
              "17450.0          26.0    359.0  367.0     7404.690385  163233.284366   \n",
              "14096.0          16.0     97.0  101.0     4071.434375  171476.631670   \n",
              "16446.0           1.0    205.0  205.0   168469.600000  172828.907358   \n",
              "18102.0          25.0    367.0  367.0     9349.477200  197946.884059   \n",
              "14646.0          44.0    353.0  354.0     6366.705909  247585.437580   \n",
              "\n",
              "            predicted_purchases  predicted_monetary_value  \n",
              "CustomerID                                                 \n",
              "17450.0               24.699139               7144.098119  \n",
              "14096.0               48.085829               3854.836146  \n",
              "16446.0                2.219387              84178.331306  \n",
              "18102.0               23.765789               9003.615503  \n",
              "14646.0               42.934914               6233.543383  "
            ]
          },
          "execution_count": 23,
          "metadata": {},
          "output_type": "execute_result"
        }
      ],
      "source": [
        "final_df.sort_values(by=\"ltv\").tail(5)"
      ]
    },
    {
      "cell_type": "markdown",
      "id": "9000b0ae",
      "metadata": {
        "id": "9000b0ae"
      },
      "source": [
        "- 14646고객의 LTV가 제일 높은 결과 확인 가능\n",
        "- 평균 구매액은 6366정도\n",
        "- 353일 동안 44번 구매 ( 평균 8일에 한번 구매 )\n",
        "- T(집계일) - recency(마지막 구매 일자) = 1로 어제도 구매한 결과 확인 가능"
      ]
    }
  ],
  "metadata": {
    "hide_input": false,
    "kernelspec": {
      "display_name": "conda2",
      "language": "python",
      "name": "conda2"
    },
    "language_info": {
      "codemirror_mode": {
        "name": "ipython",
        "version": 3
      },
      "file_extension": ".py",
      "mimetype": "text/x-python",
      "name": "python",
      "nbconvert_exporter": "python",
      "pygments_lexer": "ipython3",
      "version": "3.6.5"
    },
    "toc": {
      "base_numbering": 1,
      "nav_menu": {},
      "number_sections": true,
      "sideBar": true,
      "skip_h1_title": false,
      "title_cell": "Table of Contents",
      "title_sidebar": "Contents",
      "toc_cell": false,
      "toc_position": {},
      "toc_section_display": true,
      "toc_window_display": false
    },
    "varInspector": {
      "cols": {
        "lenName": 16,
        "lenType": 16,
        "lenVar": 40
      },
      "kernels_config": {
        "python": {
          "delete_cmd_postfix": "",
          "delete_cmd_prefix": "del ",
          "library": "var_list.py",
          "varRefreshCmd": "print(var_dic_list())"
        },
        "r": {
          "delete_cmd_postfix": ") ",
          "delete_cmd_prefix": "rm(",
          "library": "var_list.r",
          "varRefreshCmd": "cat(var_dic_list()) "
        }
      },
      "types_to_exclude": [
        "module",
        "function",
        "builtin_function_or_method",
        "instance",
        "_Feature"
      ],
      "window_display": false
    },
    "colab": {
      "provenance": []
    }
  },
  "nbformat": 4,
  "nbformat_minor": 5
}